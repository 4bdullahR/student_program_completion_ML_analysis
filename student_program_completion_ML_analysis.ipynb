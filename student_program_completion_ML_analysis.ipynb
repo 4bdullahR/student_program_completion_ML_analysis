{
 "cells": [
  {
   "cell_type": "markdown",
   "metadata": {},
   "source": [
    "## Setup"
   ]
  },
  {
   "cell_type": "code",
   "execution_count": 1,
   "metadata": {},
   "outputs": [],
   "source": [
    "import pandas as pd\n",
    "import matplotlib.pyplot as plt\n",
    "import seaborn as sb\n",
    "import numpy as np\n",
    "from sklearn.model_selection import train_test_split\n",
    "from sklearn.preprocessing import StandardScaler\n",
    "from sklearn.linear_model import LogisticRegression\n",
    "from sklearn.metrics import classification_report\n",
    "from sklearn.tree import DecisionTreeClassifier\n",
    "from sklearn.svm import SVC\n",
    "from sklearn.ensemble import RandomForestClassifier\n",
    "from sklearn.metrics import accuracy_score\n",
    "from sklearn.feature_selection import SelectKBest, f_classif\n"
   ]
  },
  {
   "cell_type": "markdown",
   "metadata": {},
   "source": [
    "## Data Exploration and Preprocessing"
   ]
  },
  {
   "cell_type": "markdown",
   "metadata": {},
   "source": [
    "### Reading data from files"
   ]
  },
  {
   "cell_type": "code",
   "execution_count": 2,
   "metadata": {},
   "outputs": [],
   "source": [
    "df_registration = pd.read_csv('registration.csv')\n",
    "df_sample_submission = pd.read_csv(\"sample_submission.csv\")\n",
    "df_test = pd.read_csv(\"test.csv\")\n",
    "df_train = pd.read_csv(\"train.csv\")"
   ]
  },
  {
   "cell_type": "code",
   "execution_count": 3,
   "metadata": {},
   "outputs": [],
   "source": [
    "# # merge them to make cleaning easier and splite them when needed\n",
    "# df = pd.concat([df_train, df_test]).reset_index(drop=True)"
   ]
  },
  {
   "cell_type": "markdown",
   "metadata": {},
   "source": [
    "### Exploring features"
   ]
  },
  {
   "cell_type": "markdown",
   "metadata": {},
   "source": [
    "<ul>\n",
    "<li><code>Student ID</code>: String - A unique identifier for each student.</li>\n",
    "<li><code>Age</code>: Int - The age of the student.</li>\n",
    "<li><code>Gender</code>: String - Gender of the student.</li>\n",
    "<li><code>Home Region</code>: String - Student's home region.</li>\n",
    "<li><code>Home City</code>: String - Student's home city.</li>\n",
    "<li><code>Program ID</code>: String - Unique identifier for each program.</li>\n",
    "<li><code>Program Main Category Code</code>: String - Main category of the program (Encoded).</li>\n",
    "<li><code>Program Sub Category Code</code>: String - Sub-category of the program (Encoded).</li>\n",
    "<li><code>Technology Type</code>: String - Type of technology used in the program.</li>\n",
    "<li><code>Program Skill Level</code>: String - Skill level of the program.</li>\n",
    "<li><code>Program Presentation Method</code>: String - Presentation method of the program (in-person or online).</li>\n",
    "<li><code>Program Start Date</code>: Date - The date the program started.</li>\n",
    "<li><code>Program End Date</code>: Date - The date the program ended.</li>\n",
    "<li><code>Program Days</code>: Int - Count of days in the program.</li>\n",
    "<li><code>Completed Degree</code>: String - Indicates if the student completed a university/college degree.</li>\n",
    "<li><code>Level of Education</code>: String - Highest university/college degree received by the student.</li>\n",
    "<li><code>Education Specialty</code>: String - University/college degree specialty.</li>\n",
    "<li><code>College</code>: String - The student's university/college.</li>\n",
    "<li><code>University Degree Score</code>: String - The score of the student in university/college.</li>\n",
    "<li><code>University Degree Score System</code>: String - The scoring system used for the student's university/college score.</li>\n",
    "<li><code>Employment Status</code>: String - Current employment status of the student.</li>\n",
    "<li><code>Job Type</code>: String - Type of employment for the student.</li>\n",
    "<li><code>Still Working</code>: String - Indicates if the student is currently working.</li>\n",
    "<li><code>Y (Target)</code>: Bool - Indicates if the student completed the program by achieving the minimum attendance percentage.(1 = Did not complete the program, 0 = Successfully completed the program)</li>\n",
    "</ul>"
   ]
  },
  {
   "cell_type": "code",
   "execution_count": 4,
   "metadata": {},
   "outputs": [],
   "source": [
    "#since we have lots of columns and we want to look at them all, we must do the following\n",
    "pd.options.display.max_columns = None"
   ]
  },
  {
   "cell_type": "code",
   "execution_count": 5,
   "metadata": {},
   "outputs": [
    {
     "data": {
      "text/html": [
       "<div>\n",
       "<style scoped>\n",
       "    .dataframe tbody tr th:only-of-type {\n",
       "        vertical-align: middle;\n",
       "    }\n",
       "\n",
       "    .dataframe tbody tr th {\n",
       "        vertical-align: top;\n",
       "    }\n",
       "\n",
       "    .dataframe thead th {\n",
       "        text-align: right;\n",
       "    }\n",
       "</style>\n",
       "<table border=\"1\" class=\"dataframe\">\n",
       "  <thead>\n",
       "    <tr style=\"text-align: right;\">\n",
       "      <th></th>\n",
       "      <th>Student ID</th>\n",
       "      <th>PCRF</th>\n",
       "      <th>GRST</th>\n",
       "      <th>CAUF</th>\n",
       "      <th>INFA</th>\n",
       "      <th>ABIR</th>\n",
       "      <th>SERU</th>\n",
       "      <th>TOSL</th>\n",
       "      <th>APMR</th>\n",
       "      <th>DTFH</th>\n",
       "      <th>QWLM</th>\n",
       "      <th>N/A</th>\n",
       "      <th>Total Regestration</th>\n",
       "    </tr>\n",
       "  </thead>\n",
       "  <tbody>\n",
       "    <tr>\n",
       "      <th>0</th>\n",
       "      <td>0005f921-db87-47a3-af19-000332af236b</td>\n",
       "      <td>6</td>\n",
       "      <td>0</td>\n",
       "      <td>1</td>\n",
       "      <td>3</td>\n",
       "      <td>0</td>\n",
       "      <td>0</td>\n",
       "      <td>0</td>\n",
       "      <td>3</td>\n",
       "      <td>0</td>\n",
       "      <td>0</td>\n",
       "      <td>6</td>\n",
       "      <td>19</td>\n",
       "    </tr>\n",
       "    <tr>\n",
       "      <th>1</th>\n",
       "      <td>000f66b3-6ad7-4a6c-9f1f-0d34b005c5e6</td>\n",
       "      <td>0</td>\n",
       "      <td>0</td>\n",
       "      <td>7</td>\n",
       "      <td>0</td>\n",
       "      <td>0</td>\n",
       "      <td>0</td>\n",
       "      <td>0</td>\n",
       "      <td>1</td>\n",
       "      <td>0</td>\n",
       "      <td>0</td>\n",
       "      <td>0</td>\n",
       "      <td>8</td>\n",
       "    </tr>\n",
       "  </tbody>\n",
       "</table>\n",
       "</div>"
      ],
      "text/plain": [
       "                             Student ID  PCRF  GRST  CAUF  INFA  ABIR  SERU  \\\n",
       "0  0005f921-db87-47a3-af19-000332af236b     6     0     1     3     0     0   \n",
       "1  000f66b3-6ad7-4a6c-9f1f-0d34b005c5e6     0     0     7     0     0     0   \n",
       "\n",
       "   TOSL  APMR  DTFH  QWLM  N/A  Total Regestration  \n",
       "0     0     3     0     0    6                  19  \n",
       "1     0     1     0     0    0                   8  "
      ]
     },
     "execution_count": 5,
     "metadata": {},
     "output_type": "execute_result"
    }
   ],
   "source": [
    "df_registration.head(2)"
   ]
  },
  {
   "cell_type": "code",
   "execution_count": 6,
   "metadata": {},
   "outputs": [
    {
     "data": {
      "text/html": [
       "<div>\n",
       "<style scoped>\n",
       "    .dataframe tbody tr th:only-of-type {\n",
       "        vertical-align: middle;\n",
       "    }\n",
       "\n",
       "    .dataframe tbody tr th {\n",
       "        vertical-align: top;\n",
       "    }\n",
       "\n",
       "    .dataframe thead th {\n",
       "        text-align: right;\n",
       "    }\n",
       "</style>\n",
       "<table border=\"1\" class=\"dataframe\">\n",
       "  <thead>\n",
       "    <tr style=\"text-align: right;\">\n",
       "      <th></th>\n",
       "      <th>ID</th>\n",
       "      <th>Y</th>\n",
       "    </tr>\n",
       "  </thead>\n",
       "  <tbody>\n",
       "    <tr>\n",
       "      <th>0</th>\n",
       "      <td>1</td>\n",
       "      <td>1</td>\n",
       "    </tr>\n",
       "    <tr>\n",
       "      <th>1</th>\n",
       "      <td>2</td>\n",
       "      <td>1</td>\n",
       "    </tr>\n",
       "  </tbody>\n",
       "</table>\n",
       "</div>"
      ],
      "text/plain": [
       "   ID  Y\n",
       "0   1  1\n",
       "1   2  1"
      ]
     },
     "execution_count": 6,
     "metadata": {},
     "output_type": "execute_result"
    }
   ],
   "source": [
    "df_sample_submission.head(2)"
   ]
  },
  {
   "cell_type": "code",
   "execution_count": 7,
   "metadata": {},
   "outputs": [
    {
     "data": {
      "text/html": [
       "<div>\n",
       "<style scoped>\n",
       "    .dataframe tbody tr th:only-of-type {\n",
       "        vertical-align: middle;\n",
       "    }\n",
       "\n",
       "    .dataframe tbody tr th {\n",
       "        vertical-align: top;\n",
       "    }\n",
       "\n",
       "    .dataframe thead th {\n",
       "        text-align: right;\n",
       "    }\n",
       "</style>\n",
       "<table border=\"1\" class=\"dataframe\">\n",
       "  <thead>\n",
       "    <tr style=\"text-align: right;\">\n",
       "      <th></th>\n",
       "      <th>Student ID</th>\n",
       "      <th>Age</th>\n",
       "      <th>Gender</th>\n",
       "      <th>Home Region</th>\n",
       "      <th>Home City</th>\n",
       "      <th>Program ID</th>\n",
       "      <th>Program Main Category Code</th>\n",
       "      <th>Program Sub Category Code</th>\n",
       "      <th>Technology Type</th>\n",
       "      <th>Program Skill Level</th>\n",
       "      <th>Program Presentation Method</th>\n",
       "      <th>Program Start Date</th>\n",
       "      <th>Program End Date</th>\n",
       "      <th>Program Days</th>\n",
       "      <th>Completed Degree</th>\n",
       "      <th>Level of Education</th>\n",
       "      <th>Education Speaciality</th>\n",
       "      <th>College</th>\n",
       "      <th>University Degree Score</th>\n",
       "      <th>University Degree Score System</th>\n",
       "      <th>Employment Status</th>\n",
       "      <th>Job Type</th>\n",
       "      <th>Still Working</th>\n",
       "      <th>Y</th>\n",
       "    </tr>\n",
       "  </thead>\n",
       "  <tbody>\n",
       "    <tr>\n",
       "      <th>0</th>\n",
       "      <td>4f14c50d-162e-4a15-9cf0-ec129c33bcf0</td>\n",
       "      <td>37.0</td>\n",
       "      <td>ذكر</td>\n",
       "      <td>منطقة الرياض</td>\n",
       "      <td>الرياض</td>\n",
       "      <td>453686d8-4023-4506-b2df-fac8b059ac26</td>\n",
       "      <td>PCRF</td>\n",
       "      <td>PCRF</td>\n",
       "      <td>NaN</td>\n",
       "      <td>NaN</td>\n",
       "      <td>حضوري</td>\n",
       "      <td>2023-05-28</td>\n",
       "      <td>2023-06-08</td>\n",
       "      <td>12</td>\n",
       "      <td>نعم</td>\n",
       "      <td>البكالوريوس</td>\n",
       "      <td>هندسة حاسب الالي</td>\n",
       "      <td>NaN</td>\n",
       "      <td>2.44</td>\n",
       "      <td>4.0</td>\n",
       "      <td>غير موظف</td>\n",
       "      <td>NaN</td>\n",
       "      <td>NaN</td>\n",
       "      <td>0</td>\n",
       "    </tr>\n",
       "    <tr>\n",
       "      <th>1</th>\n",
       "      <td>0599d409-876b-41a5-af05-749ef0e77d32</td>\n",
       "      <td>21.0</td>\n",
       "      <td>ذكر</td>\n",
       "      <td>منطقة عسير</td>\n",
       "      <td>خميس مشيط</td>\n",
       "      <td>cc8e4e42-65d5-4fa1-82f9-6c6c2d508b60</td>\n",
       "      <td>APMR</td>\n",
       "      <td>SWPS</td>\n",
       "      <td>NaN</td>\n",
       "      <td>متوسط</td>\n",
       "      <td>حضوري</td>\n",
       "      <td>2023-04-02</td>\n",
       "      <td>2023-04-06</td>\n",
       "      <td>5</td>\n",
       "      <td>نعم</td>\n",
       "      <td>البكالوريوس</td>\n",
       "      <td>الإذاعة والتلفزيون والفيلم</td>\n",
       "      <td>الفنون والعلوم الإنسانية</td>\n",
       "      <td>5.00</td>\n",
       "      <td>5.0</td>\n",
       "      <td>طالب</td>\n",
       "      <td>NaN</td>\n",
       "      <td>NaN</td>\n",
       "      <td>0</td>\n",
       "    </tr>\n",
       "  </tbody>\n",
       "</table>\n",
       "</div>"
      ],
      "text/plain": [
       "                             Student ID   Age Gender   Home Region  Home City  \\\n",
       "0  4f14c50d-162e-4a15-9cf0-ec129c33bcf0  37.0    ذكر  منطقة الرياض     الرياض   \n",
       "1  0599d409-876b-41a5-af05-749ef0e77d32  21.0    ذكر    منطقة عسير  خميس مشيط   \n",
       "\n",
       "                             Program ID Program Main Category Code  \\\n",
       "0  453686d8-4023-4506-b2df-fac8b059ac26                       PCRF   \n",
       "1  cc8e4e42-65d5-4fa1-82f9-6c6c2d508b60                       APMR   \n",
       "\n",
       "  Program Sub Category Code Technology Type Program Skill Level  \\\n",
       "0                      PCRF             NaN                 NaN   \n",
       "1                      SWPS             NaN               متوسط   \n",
       "\n",
       "  Program Presentation Method Program Start Date Program End Date  \\\n",
       "0                       حضوري         2023-05-28       2023-06-08   \n",
       "1                       حضوري         2023-04-02       2023-04-06   \n",
       "\n",
       "   Program Days Completed Degree Level of Education  \\\n",
       "0            12              نعم        البكالوريوس   \n",
       "1             5              نعم        البكالوريوس   \n",
       "\n",
       "        Education Speaciality                   College  \\\n",
       "0            هندسة حاسب الالي                       NaN   \n",
       "1  الإذاعة والتلفزيون والفيلم  الفنون والعلوم الإنسانية   \n",
       "\n",
       "   University Degree Score  University Degree Score System Employment Status  \\\n",
       "0                     2.44                             4.0          غير موظف   \n",
       "1                     5.00                             5.0              طالب   \n",
       "\n",
       "  Job Type Still Working  Y  \n",
       "0      NaN           NaN  0  \n",
       "1      NaN           NaN  0  "
      ]
     },
     "execution_count": 7,
     "metadata": {},
     "output_type": "execute_result"
    }
   ],
   "source": [
    "df_train.head(2)"
   ]
  },
  {
   "cell_type": "code",
   "execution_count": 8,
   "metadata": {},
   "outputs": [
    {
     "data": {
      "text/html": [
       "<div>\n",
       "<style scoped>\n",
       "    .dataframe tbody tr th:only-of-type {\n",
       "        vertical-align: middle;\n",
       "    }\n",
       "\n",
       "    .dataframe tbody tr th {\n",
       "        vertical-align: top;\n",
       "    }\n",
       "\n",
       "    .dataframe thead th {\n",
       "        text-align: right;\n",
       "    }\n",
       "</style>\n",
       "<table border=\"1\" class=\"dataframe\">\n",
       "  <thead>\n",
       "    <tr style=\"text-align: right;\">\n",
       "      <th></th>\n",
       "      <th>Student ID</th>\n",
       "      <th>Age</th>\n",
       "      <th>Gender</th>\n",
       "      <th>Home Region</th>\n",
       "      <th>Home City</th>\n",
       "      <th>Program ID</th>\n",
       "      <th>Program Main Category Code</th>\n",
       "      <th>Program Sub Category Code</th>\n",
       "      <th>Technology Type</th>\n",
       "      <th>Program Skill Level</th>\n",
       "      <th>Program Presentation Method</th>\n",
       "      <th>Program Start Date</th>\n",
       "      <th>Program End Date</th>\n",
       "      <th>Program Days</th>\n",
       "      <th>Completed Degree</th>\n",
       "      <th>Level of Education</th>\n",
       "      <th>Education Speaciality</th>\n",
       "      <th>College</th>\n",
       "      <th>University Degree Score</th>\n",
       "      <th>University Degree Score System</th>\n",
       "      <th>Employment Status</th>\n",
       "      <th>Job Type</th>\n",
       "      <th>Still Working</th>\n",
       "    </tr>\n",
       "  </thead>\n",
       "  <tbody>\n",
       "    <tr>\n",
       "      <th>0</th>\n",
       "      <td>d8524ed6-a1b2-4f6f-9041-66eebcab899a</td>\n",
       "      <td>23.0</td>\n",
       "      <td>أنثى</td>\n",
       "      <td>منطقة الرياض</td>\n",
       "      <td>الرياض</td>\n",
       "      <td>451d680f-e067-41c0-a998-6b3da3963bca</td>\n",
       "      <td>CAUF</td>\n",
       "      <td>SWPS</td>\n",
       "      <td>تقليدية</td>\n",
       "      <td>متوسط</td>\n",
       "      <td>عن بعد</td>\n",
       "      <td>2023-10-08</td>\n",
       "      <td>2023-10-12</td>\n",
       "      <td>5</td>\n",
       "      <td>لا</td>\n",
       "      <td>البكالوريوس</td>\n",
       "      <td>علوم الحاسب الالي</td>\n",
       "      <td>NaN</td>\n",
       "      <td>3.72</td>\n",
       "      <td>4.0</td>\n",
       "      <td>خريج</td>\n",
       "      <td>NaN</td>\n",
       "      <td>NaN</td>\n",
       "    </tr>\n",
       "    <tr>\n",
       "      <th>1</th>\n",
       "      <td>5490b973-d85e-4b26-93a8-ecc11c47a5a0</td>\n",
       "      <td>31.0</td>\n",
       "      <td>أنثى</td>\n",
       "      <td>منطقة الرياض</td>\n",
       "      <td>الرياض</td>\n",
       "      <td>4957a013-46a7-419c-93d5-ebf3741ab2a1</td>\n",
       "      <td>PCRF</td>\n",
       "      <td>PCRF</td>\n",
       "      <td>تقليدية</td>\n",
       "      <td>مبتدئ</td>\n",
       "      <td>عن بعد</td>\n",
       "      <td>2023-07-16</td>\n",
       "      <td>2023-08-03</td>\n",
       "      <td>19</td>\n",
       "      <td>لا</td>\n",
       "      <td>البكالوريوس</td>\n",
       "      <td>تقنية المعلومات</td>\n",
       "      <td>تكنولوجيا الاتصالات والمعلومات</td>\n",
       "      <td>2.00</td>\n",
       "      <td>4.0</td>\n",
       "      <td>NaN</td>\n",
       "      <td>NaN</td>\n",
       "      <td>NaN</td>\n",
       "    </tr>\n",
       "  </tbody>\n",
       "</table>\n",
       "</div>"
      ],
      "text/plain": [
       "                             Student ID   Age Gender   Home Region Home City  \\\n",
       "0  d8524ed6-a1b2-4f6f-9041-66eebcab899a  23.0   أنثى  منطقة الرياض    الرياض   \n",
       "1  5490b973-d85e-4b26-93a8-ecc11c47a5a0  31.0   أنثى  منطقة الرياض    الرياض   \n",
       "\n",
       "                             Program ID Program Main Category Code  \\\n",
       "0  451d680f-e067-41c0-a998-6b3da3963bca                       CAUF   \n",
       "1  4957a013-46a7-419c-93d5-ebf3741ab2a1                       PCRF   \n",
       "\n",
       "  Program Sub Category Code Technology Type Program Skill Level  \\\n",
       "0                      SWPS         تقليدية               متوسط   \n",
       "1                      PCRF         تقليدية               مبتدئ   \n",
       "\n",
       "  Program Presentation Method Program Start Date Program End Date  \\\n",
       "0                      عن بعد         2023-10-08       2023-10-12   \n",
       "1                      عن بعد         2023-07-16       2023-08-03   \n",
       "\n",
       "   Program Days Completed Degree Level of Education Education Speaciality  \\\n",
       "0             5               لا        البكالوريوس     علوم الحاسب الالي   \n",
       "1            19               لا        البكالوريوس       تقنية المعلومات   \n",
       "\n",
       "                          College  University Degree Score  \\\n",
       "0                             NaN                     3.72   \n",
       "1  تكنولوجيا الاتصالات والمعلومات                     2.00   \n",
       "\n",
       "   University Degree Score System Employment Status Job Type Still Working  \n",
       "0                             4.0              خريج      NaN           NaN  \n",
       "1                             4.0               NaN      NaN           NaN  "
      ]
     },
     "execution_count": 8,
     "metadata": {},
     "output_type": "execute_result"
    }
   ],
   "source": [
    "df_test.head(2)"
   ]
  },
  {
   "cell_type": "markdown",
   "metadata": {},
   "source": [
    "#### More details about the Data Frames"
   ]
  },
  {
   "cell_type": "code",
   "execution_count": 9,
   "metadata": {},
   "outputs": [
    {
     "name": "stdout",
     "output_type": "stream",
     "text": [
      "<class 'pandas.core.frame.DataFrame'>\n",
      "RangeIndex: 6171 entries, 0 to 6170\n",
      "Data columns (total 13 columns):\n",
      " #   Column              Non-Null Count  Dtype \n",
      "---  ------              --------------  ----- \n",
      " 0   Student ID          6171 non-null   object\n",
      " 1   PCRF                6171 non-null   int64 \n",
      " 2   GRST                6171 non-null   int64 \n",
      " 3   CAUF                6171 non-null   int64 \n",
      " 4   INFA                6171 non-null   int64 \n",
      " 5   ABIR                6171 non-null   int64 \n",
      " 6   SERU                6171 non-null   int64 \n",
      " 7   TOSL                6171 non-null   int64 \n",
      " 8   APMR                6171 non-null   int64 \n",
      " 9   DTFH                6171 non-null   int64 \n",
      " 10  QWLM                6171 non-null   int64 \n",
      " 11  N/A                 6171 non-null   int64 \n",
      " 12  Total Regestration  6171 non-null   int64 \n",
      "dtypes: int64(12), object(1)\n",
      "memory usage: 626.9+ KB\n"
     ]
    }
   ],
   "source": [
    "df_registration.info()"
   ]
  },
  {
   "cell_type": "code",
   "execution_count": 10,
   "metadata": {},
   "outputs": [
    {
     "name": "stdout",
     "output_type": "stream",
     "text": [
      "<class 'pandas.core.frame.DataFrame'>\n",
      "RangeIndex: 9 entries, 0 to 8\n",
      "Data columns (total 2 columns):\n",
      " #   Column  Non-Null Count  Dtype\n",
      "---  ------  --------------  -----\n",
      " 0   ID      9 non-null      int64\n",
      " 1   Y       9 non-null      int64\n",
      "dtypes: int64(2)\n",
      "memory usage: 272.0 bytes\n"
     ]
    }
   ],
   "source": [
    "df_sample_submission.info()"
   ]
  },
  {
   "cell_type": "code",
   "execution_count": 11,
   "metadata": {},
   "outputs": [
    {
     "name": "stdout",
     "output_type": "stream",
     "text": [
      "<class 'pandas.core.frame.DataFrame'>\n",
      "RangeIndex: 818 entries, 0 to 817\n",
      "Data columns (total 23 columns):\n",
      " #   Column                          Non-Null Count  Dtype  \n",
      "---  ------                          --------------  -----  \n",
      " 0   Student ID                      818 non-null    object \n",
      " 1   Age                             804 non-null    float64\n",
      " 2   Gender                          818 non-null    object \n",
      " 3   Home Region                     817 non-null    object \n",
      " 4   Home City                       817 non-null    object \n",
      " 5   Program ID                      818 non-null    object \n",
      " 6   Program Main Category Code      818 non-null    object \n",
      " 7   Program Sub Category Code       703 non-null    object \n",
      " 8   Technology Type                 454 non-null    object \n",
      " 9   Program Skill Level             618 non-null    object \n",
      " 10  Program Presentation Method     818 non-null    object \n",
      " 11  Program Start Date              818 non-null    object \n",
      " 12  Program End Date                818 non-null    object \n",
      " 13  Program Days                    818 non-null    int64  \n",
      " 14  Completed Degree                818 non-null    object \n",
      " 15  Level of Education              815 non-null    object \n",
      " 16  Education Speaciality           781 non-null    object \n",
      " 17  College                         326 non-null    object \n",
      " 18  University Degree Score         807 non-null    float64\n",
      " 19  University Degree Score System  807 non-null    float64\n",
      " 20  Employment Status               748 non-null    object \n",
      " 21  Job Type                        237 non-null    object \n",
      " 22  Still Working                   237 non-null    object \n",
      "dtypes: float64(3), int64(1), object(19)\n",
      "memory usage: 147.1+ KB\n"
     ]
    }
   ],
   "source": [
    "df_test.info(2)"
   ]
  },
  {
   "cell_type": "code",
   "execution_count": 12,
   "metadata": {},
   "outputs": [
    {
     "name": "stdout",
     "output_type": "stream",
     "text": [
      "<class 'pandas.core.frame.DataFrame'>\n",
      "RangeIndex: 6548 entries, 0 to 6547\n",
      "Data columns (total 24 columns):\n",
      " #   Column                          Non-Null Count  Dtype  \n",
      "---  ------                          --------------  -----  \n",
      " 0   Student ID                      6548 non-null   object \n",
      " 1   Age                             6456 non-null   float64\n",
      " 2   Gender                          6548 non-null   object \n",
      " 3   Home Region                     6546 non-null   object \n",
      " 4   Home City                       6546 non-null   object \n",
      " 5   Program ID                      6548 non-null   object \n",
      " 6   Program Main Category Code      6548 non-null   object \n",
      " 7   Program Sub Category Code       5613 non-null   object \n",
      " 8   Technology Type                 3566 non-null   object \n",
      " 9   Program Skill Level             4902 non-null   object \n",
      " 10  Program Presentation Method     6548 non-null   object \n",
      " 11  Program Start Date              6548 non-null   object \n",
      " 12  Program End Date                6548 non-null   object \n",
      " 13  Program Days                    6548 non-null   int64  \n",
      " 14  Completed Degree                6548 non-null   object \n",
      " 15  Level of Education              6522 non-null   object \n",
      " 16  Education Speaciality           6271 non-null   object \n",
      " 17  College                         2658 non-null   object \n",
      " 18  University Degree Score         6467 non-null   float64\n",
      " 19  University Degree Score System  6467 non-null   float64\n",
      " 20  Employment Status               5982 non-null   object \n",
      " 21  Job Type                        1981 non-null   object \n",
      " 22  Still Working                   1981 non-null   object \n",
      " 23  Y                               6548 non-null   int64  \n",
      "dtypes: float64(3), int64(2), object(19)\n",
      "memory usage: 1.2+ MB\n"
     ]
    }
   ],
   "source": [
    "df_train.info(2)"
   ]
  },
  {
   "cell_type": "markdown",
   "metadata": {},
   "source": [
    "### Proccesing"
   ]
  },
  {
   "cell_type": "markdown",
   "metadata": {},
   "source": [
    "##### Checking duplicates and null values in review dataset "
   ]
  },
  {
   "cell_type": "code",
   "execution_count": 13,
   "metadata": {},
   "outputs": [
    {
     "name": "stdout",
     "output_type": "stream",
     "text": [
      "Number of duplicates in df_registration is: 0\n",
      "Number of duplicates in df_sample_submission is: 0\n",
      "Number of duplicates in df_test is: 4\n",
      "Number of duplicates in df_train is: 48\n"
     ]
    }
   ],
   "source": [
    "print(f\"Number of duplicates in df_registration is: {df_registration.duplicated().sum()}\")\n",
    "print(f\"Number of duplicates in df_sample_submission is: {df_sample_submission.duplicated().sum()}\")\n",
    "print(f\"Number of duplicates in df_test is: {df_test.duplicated().sum()}\")\n",
    "print(f\"Number of duplicates in df_train is: {df_train.duplicated().sum()}\")"
   ]
  },
  {
   "cell_type": "code",
   "execution_count": 14,
   "metadata": {},
   "outputs": [
    {
     "name": "stdout",
     "output_type": "stream",
     "text": [
      "Number of duplicates in df_test is: 0\n",
      "Number of duplicates in df_train is: 0\n"
     ]
    }
   ],
   "source": [
    "# dropping duplicates\n",
    "df_test = df_test.drop_duplicates()\n",
    "print(f\"Number of duplicates in df_test is: {df_test.duplicated().sum()}\")\n",
    "\n",
    "df_train = df_train.drop_duplicates()\n",
    "print(f\"Number of duplicates in df_train is: {df_train.duplicated().sum()}\")"
   ]
  },
  {
   "cell_type": "code",
   "execution_count": 15,
   "metadata": {},
   "outputs": [
    {
     "data": {
      "text/plain": [
       "Student ID            0\n",
       "PCRF                  0\n",
       "GRST                  0\n",
       "CAUF                  0\n",
       "INFA                  0\n",
       "ABIR                  0\n",
       "SERU                  0\n",
       "TOSL                  0\n",
       "APMR                  0\n",
       "DTFH                  0\n",
       "QWLM                  0\n",
       "N/A                   0\n",
       "Total Regestration    0\n",
       "dtype: int64"
      ]
     },
     "execution_count": 15,
     "metadata": {},
     "output_type": "execute_result"
    }
   ],
   "source": [
    "# checking if there are null values\n",
    "df_registration.isnull().sum()"
   ]
  },
  {
   "cell_type": "code",
   "execution_count": 16,
   "metadata": {},
   "outputs": [
    {
     "data": {
      "text/plain": [
       "ID    0\n",
       "Y     0\n",
       "dtype: int64"
      ]
     },
     "execution_count": 16,
     "metadata": {},
     "output_type": "execute_result"
    }
   ],
   "source": [
    "df_sample_submission.isnull().sum()"
   ]
  },
  {
   "cell_type": "code",
   "execution_count": 17,
   "metadata": {},
   "outputs": [
    {
     "data": {
      "text/plain": [
       "Student ID                          0\n",
       "Age                                14\n",
       "Gender                              0\n",
       "Home Region                         1\n",
       "Home City                           1\n",
       "Program ID                          0\n",
       "Program Main Category Code          0\n",
       "Program Sub Category Code         113\n",
       "Technology Type                   363\n",
       "Program Skill Level               200\n",
       "Program Presentation Method         0\n",
       "Program Start Date                  0\n",
       "Program End Date                    0\n",
       "Program Days                        0\n",
       "Completed Degree                    0\n",
       "Level of Education                  3\n",
       "Education Speaciality              37\n",
       "College                           490\n",
       "University Degree Score            11\n",
       "University Degree Score System     11\n",
       "Employment Status                  70\n",
       "Job Type                          578\n",
       "Still Working                     578\n",
       "dtype: int64"
      ]
     },
     "execution_count": 17,
     "metadata": {},
     "output_type": "execute_result"
    }
   ],
   "source": [
    "df_test.isnull().sum()"
   ]
  },
  {
   "cell_type": "code",
   "execution_count": 18,
   "metadata": {},
   "outputs": [
    {
     "data": {
      "text/plain": [
       "Student ID                           0\n",
       "Age                                 87\n",
       "Gender                               0\n",
       "Home Region                          2\n",
       "Home City                            2\n",
       "Program ID                           0\n",
       "Program Main Category Code           0\n",
       "Program Sub Category Code          920\n",
       "Technology Type                   2958\n",
       "Program Skill Level               1645\n",
       "Program Presentation Method          0\n",
       "Program Start Date                   0\n",
       "Program End Date                     0\n",
       "Program Days                         0\n",
       "Completed Degree                     0\n",
       "Level of Education                  22\n",
       "Education Speaciality              272\n",
       "College                           3862\n",
       "University Degree Score             76\n",
       "University Degree Score System      76\n",
       "Employment Status                  557\n",
       "Job Type                          4535\n",
       "Still Working                     4535\n",
       "Y                                    0\n",
       "dtype: int64"
      ]
     },
     "execution_count": 18,
     "metadata": {},
     "output_type": "execute_result"
    }
   ],
   "source": [
    "df_train.isnull().sum()"
   ]
  },
  {
   "cell_type": "code",
   "execution_count": 19,
   "metadata": {},
   "outputs": [],
   "source": [
    "df_test.drop(columns=['Education Speaciality',\"Home City\", \"Home Region\",'Still Working','Job Type',\"College\",'Technology Type',\"Program Skill Level\",\"Program Sub Category Code\"], inplace=True)\n",
    "df_train.drop(columns=['Education Speaciality',\"Home City\", \"Home Region\",'Still Working','Job Type',\"College\",'Technology Type',\"Program Skill Level\",\"Program Sub Category Code\"], inplace=True)\n",
    "#Education Speaciality has to much categories"
   ]
  },
  {
   "cell_type": "code",
   "execution_count": 20,
   "metadata": {},
   "outputs": [
    {
     "data": {
      "text/plain": [
       "Student ID                          0\n",
       "Age                                87\n",
       "Gender                              0\n",
       "Program ID                          0\n",
       "Program Main Category Code          0\n",
       "Program Presentation Method         0\n",
       "Program Start Date                  0\n",
       "Program End Date                    0\n",
       "Program Days                        0\n",
       "Completed Degree                    0\n",
       "Level of Education                 22\n",
       "University Degree Score            76\n",
       "University Degree Score System     76\n",
       "Employment Status                 557\n",
       "Y                                   0\n",
       "dtype: int64"
      ]
     },
     "execution_count": 20,
     "metadata": {},
     "output_type": "execute_result"
    }
   ],
   "source": [
    "df_train.isnull().sum()"
   ]
  },
  {
   "cell_type": "code",
   "execution_count": 21,
   "metadata": {},
   "outputs": [
    {
     "data": {
      "text/plain": [
       "Student ID                         0\n",
       "Age                               14\n",
       "Gender                             0\n",
       "Program ID                         0\n",
       "Program Main Category Code         0\n",
       "Program Presentation Method        0\n",
       "Program Start Date                 0\n",
       "Program End Date                   0\n",
       "Program Days                       0\n",
       "Completed Degree                   0\n",
       "Level of Education                 3\n",
       "University Degree Score           11\n",
       "University Degree Score System    11\n",
       "Employment Status                 70\n",
       "dtype: int64"
      ]
     },
     "execution_count": 21,
     "metadata": {},
     "output_type": "execute_result"
    }
   ],
   "source": [
    "df_test.isnull().sum()"
   ]
  },
  {
   "cell_type": "code",
   "execution_count": 22,
   "metadata": {},
   "outputs": [
    {
     "data": {
      "text/plain": [
       "Student ID                        0\n",
       "Age                               0\n",
       "Gender                            0\n",
       "Program ID                        0\n",
       "Program Main Category Code        0\n",
       "Program Presentation Method       0\n",
       "Program Start Date                0\n",
       "Program End Date                  0\n",
       "Program Days                      0\n",
       "Completed Degree                  0\n",
       "Level of Education                0\n",
       "University Degree Score           0\n",
       "University Degree Score System    0\n",
       "Employment Status                 0\n",
       "dtype: int64"
      ]
     },
     "execution_count": 22,
     "metadata": {},
     "output_type": "execute_result"
    }
   ],
   "source": [
    "#dropping null values\n",
    "# df_test = df_test.dropna()\n",
    "df_test.Age =  df_test.Age.fillna(df_test.Age.mean())\n",
    "df_test['University Degree Score'] =  df_test['University Degree Score'].fillna(df_test['University Degree Score'].mean())\n",
    "df_test['University Degree Score System'] =  df_test['University Degree Score System'].fillna(df_test['University Degree Score System'].mean())\n",
    "df_test = df_test.fillna('Unspecified')\n",
    "df_test.isnull().sum()"
   ]
  },
  {
   "cell_type": "code",
   "execution_count": 23,
   "metadata": {},
   "outputs": [
    {
     "data": {
      "text/plain": [
       "Student ID                        0\n",
       "Age                               0\n",
       "Gender                            0\n",
       "Program ID                        0\n",
       "Program Main Category Code        0\n",
       "Program Presentation Method       0\n",
       "Program Start Date                0\n",
       "Program End Date                  0\n",
       "Program Days                      0\n",
       "Completed Degree                  0\n",
       "Level of Education                0\n",
       "University Degree Score           0\n",
       "University Degree Score System    0\n",
       "Employment Status                 0\n",
       "Y                                 0\n",
       "dtype: int64"
      ]
     },
     "execution_count": 23,
     "metadata": {},
     "output_type": "execute_result"
    }
   ],
   "source": [
    "#dropping null values\n",
    "df_train = df_train.dropna()\n",
    "df_train.isnull().sum()"
   ]
  },
  {
   "cell_type": "markdown",
   "metadata": {},
   "source": [
    "### Further proccesing (encoding)"
   ]
  },
  {
   "cell_type": "code",
   "execution_count": 24,
   "metadata": {},
   "outputs": [
    {
     "name": "stdout",
     "output_type": "stream",
     "text": [
      "Gender\n",
      "أنثى    482\n",
      "ذكر     332\n",
      "Name: count, dtype: int64\n",
      "Gender\n",
      "أنثى    3295\n",
      "ذكر     2633\n",
      "Name: count, dtype: int64\n",
      "Program Presentation Method\n",
      "حضوري     612\n",
      "عن بعد    202\n",
      "Name: count, dtype: int64\n",
      "Program Presentation Method\n",
      "حضوري     4535\n",
      "عن بعد    1393\n",
      "Name: count, dtype: int64\n",
      "Completed Degree\n",
      "نعم    636\n",
      "لا     178\n",
      "Name: count, dtype: int64\n",
      "Completed Degree\n",
      "نعم    4706\n",
      "لا     1222\n",
      "Name: count, dtype: int64\n"
     ]
    }
   ],
   "source": [
    "# turning bianary categories into 1 and 0 \n",
    "print(df_test['Gender'].value_counts())\n",
    "df_test['Gender'] = df_test['Gender'].replace({'ذكر': 1, 'أنثى': 0})\n",
    "\n",
    "print(df_train['Gender'].value_counts())\n",
    "df_train['Gender'] = df_train['Gender'].replace({'ذكر': 1, 'أنثى': 0})\n",
    "\n",
    "\n",
    "print(df_test['Program Presentation Method'].value_counts())\n",
    "df_test['Program Presentation Method'] = df_test['Program Presentation Method'].replace({'حضوري': 1, 'عن بعد': 0})\n",
    "\n",
    "print(df_train['Program Presentation Method'].value_counts())\n",
    "df_train['Program Presentation Method'] = df_train['Program Presentation Method'].replace({'حضوري': 1, 'عن بعد': 0})\n",
    "\n",
    "\n",
    "print(df_test['Completed Degree'].value_counts())\n",
    "df_test['Completed Degree'] = df_test['Completed Degree'].replace({'نعم': 1, 'لا': 0})\n",
    "\n",
    "print(df_train['Completed Degree'].value_counts())\n",
    "df_train['Completed Degree'] = df_train['Completed Degree'].replace({'نعم': 1, 'لا': 0})\n"
   ]
  },
  {
   "cell_type": "markdown",
   "metadata": {},
   "source": [
    "## Converting Categorical data into numbers"
   ]
  },
  {
   "cell_type": "code",
   "execution_count": 25,
   "metadata": {},
   "outputs": [
    {
     "name": "stdout",
     "output_type": "stream",
     "text": [
      "Employment Status\n",
      "موظف           2777\n",
      "غير موظف       1106\n",
      "طالب            945\n",
      "خريج            944\n",
      "موظف - طالب      88\n",
      "عمل حر           68\n",
      "Name: count, dtype: int64\n",
      "Level of Education\n",
      "البكالوريوس    4909\n",
      "الماجستير       460\n",
      "الدبلوم         283\n",
      "ثانوي           247\n",
      "الدكتوراه        29\n",
      "Name: count, dtype: int64\n",
      "Program Main Category Code\n",
      "CAUF    2157\n",
      "PCRF    1512\n",
      "APMR    1153\n",
      "TOSL     452\n",
      "GRST     205\n",
      "ABIR     182\n",
      "INFA     168\n",
      "SERU      39\n",
      "QWLM      30\n",
      "DTFH      30\n",
      "Name: count, dtype: int64\n",
      "Employment Status\n",
      "موظف           347\n",
      "طالب           132\n",
      "غير موظف       131\n",
      "خريج           119\n",
      "Unspecified     70\n",
      "موظف - طالب     11\n",
      "عمل حر           4\n",
      "Name: count, dtype: int64\n",
      "Level of Education\n",
      "البكالوريوس    657\n",
      "الماجستير       68\n",
      "الدبلوم         44\n",
      "ثانوي           36\n",
      "الدكتوراه        5\n",
      "Unspecified      3\n",
      "متوسط            1\n",
      "Name: count, dtype: int64\n",
      "Program Main Category Code\n",
      "CAUF    283\n",
      "PCRF    215\n",
      "APMR    173\n",
      "TOSL     55\n",
      "GRST     32\n",
      "ABIR     23\n",
      "INFA     21\n",
      "SERU      6\n",
      "QWLM      4\n",
      "DTFH      2\n",
      "Name: count, dtype: int64\n"
     ]
    }
   ],
   "source": [
    "\n",
    "print(df_train['Employment Status'].value_counts())\n",
    "df_train['Employment Status'] = df_train['Employment Status'].replace({'موظف': 1, 'غير موظف': 2, 'خريج': 3, \"طالب\": 4, \"موظف - طالب\": 4, 'عمل حر':2,'Unspecified': 5})\n",
    "\n",
    "print(df_train['Level of Education'].value_counts())\n",
    "df_train['Level of Education'] = df_train['Level of Education'].replace({'ثانوي': 1, 'الدبلوم': 2, 'البكالوريوس': 3, \"الماجستير\": 4, \"الدكتوراه\": 4,'Unspecified':0,'متوسط':0})\n",
    "\n",
    "print(df_train['Program Main Category Code'].value_counts())\n",
    "df_train['Program Main Category Code'] = df_train['Program Main Category Code'].replace({'CAUF': 1, 'PCRF': 2, 'APMR': 3, \"TOSL\": 4, \"GRST\": 5, 'ABIR': 6, \"INFA\":7, 'SERU': 8, 'QWLM':8,'DTFH':8})\n",
    "\n",
    "\n",
    "#for test dataset\n",
    "\n",
    "print(df_test['Employment Status'].value_counts())\n",
    "df_test['Employment Status'] = df_test['Employment Status'].replace({'موظف': 1, 'غير موظف': 2, 'خريج': 3, \"طالب\": 4, \"موظف - طالب\": 4, 'عمل حر':2,'Unspecified': 5})\n",
    "\n",
    "print(df_test['Level of Education'].value_counts())\n",
    "df_test['Level of Education'] = df_test['Level of Education'].replace({'ثانوي': 1, 'الدبلوم': 2, 'البكالوريوس': 3, \"الماجستير\": 4, \"الدكتوراه\": 4,'Unspecified':0,'متوسط':0})\n",
    "\n",
    "print(df_test['Program Main Category Code'].value_counts())\n",
    "df_test['Program Main Category Code'] = df_test['Program Main Category Code'].replace({'CAUF': 1, 'PCRF': 2, 'APMR': 3, \"TOSL\": 4, \"GRST\": 5, 'ABIR': 6, \"INFA\":7, 'SERU': 8, 'QWLM':8,'DTFH':8})\n"
   ]
  },
  {
   "cell_type": "code",
   "execution_count": 26,
   "metadata": {},
   "outputs": [],
   "source": [
    "# Create the new column GPA_percentage to enlminate the confustion of GPA systems :)\n",
    "df_test['GPA_percentage'] = df_test['University Degree Score'] / df_test['University Degree Score System']\n",
    "# Drop the original two columns\n",
    "df_test.drop(['University Degree Score', 'University Degree Score System'], axis=1, inplace=True)\n",
    "\n",
    "# Create the new column GPA_percentage to enlminate the confustion of GPA systems :)\n",
    "df_train['GPA_percentage'] = df_train['University Degree Score'] / df_train['University Degree Score System']\n",
    "# Drop the original two columns\n",
    "df_train.drop(['University Degree Score', 'University Degree Score System'], axis=1, inplace=True)"
   ]
  },
  {
   "cell_type": "code",
   "execution_count": 27,
   "metadata": {},
   "outputs": [],
   "source": [
    "# continueing droping some unnecessary columns \n",
    "df_train.drop(['Student ID', 'Program ID','Program Start Date','Program End Date'], axis=1, inplace=True)\n",
    "# continueing droping some unnecessary columns \n",
    "df_test.drop(['Student ID', 'Program ID','Program Start Date','Program End Date'], axis=1, inplace=True)"
   ]
  },
  {
   "cell_type": "code",
   "execution_count": 28,
   "metadata": {},
   "outputs": [
    {
     "data": {
      "text/plain": [
       "(5928, 10)"
      ]
     },
     "execution_count": 28,
     "metadata": {},
     "output_type": "execute_result"
    }
   ],
   "source": [
    "df_train.shape"
   ]
  },
  {
   "cell_type": "code",
   "execution_count": 29,
   "metadata": {},
   "outputs": [],
   "source": [
    "# # One hot encoding for categorical data\n",
    "\n",
    "# df_all = pd.concat([df_train, df_test])\n",
    "# df_all = pd.get_dummies(df_all, columns=['Home Region', 'Home City', 'Program Main Category Code'\n",
    "#                                 ,  'Level of Education','Education Speaciality',\n",
    "#                                  'Employment Status'])\n",
    "\n",
    "\n",
    "\n",
    "# # df_train = df_all.iloc[:5742, :]\n",
    "# # df_test = df_all.iloc[5742:, :]\n",
    "# df_test = df_all[df_all.Y.isnull()]\n",
    "# # One hot encoding for categorical data\n",
    "# df_train = df_all[df_all.Y.isnull() == False] \n",
    "\n",
    "# df_test.shape\n",
    "\n",
    "\n",
    "\n",
    "\n",
    "# print(df_train['Employment Status'].value_counts())\n",
    "# df_train['Employment Status'] = df_train['Employment Status'].replace({'موظف': 1, 'غير موظف': 2, 'خريج': 3, \"طالب\": 4, \"موظف - طالب\": 5, 'عمل حر':6})\n",
    "\n",
    "# print(df_train['Level of Education'].value_counts())\n",
    "# df_train['Level of Education'] = df_train['Level of Education'].replace({'ثانوي': 1, 'الدبلوم': 2, 'البكالوريوس': 3, \"الماجستير\": 4, \"الدكتوراه\": 5})\n",
    "\n",
    "# print(df_train['Program Main Category Code'].value_counts())\n",
    "# df_train['Program Main Category Code'] = df_train['Program Main Category Code'].replace({'CAUF': 1, 'PCRF': 2, 'APMR': 3, \"TOSL\": 4, \"GRST\": 5, 'ABIR': 6, \"INFA\":7, 'SERU': 8, 'QWLM':9,'DTFH':10})\n"
   ]
  },
  {
   "cell_type": "markdown",
   "metadata": {},
   "source": [
    "### DATA after cleaning, encoding etc..."
   ]
  },
  {
   "cell_type": "markdown",
   "metadata": {},
   "source": [
    "## Model Building"
   ]
  },
  {
   "cell_type": "markdown",
   "metadata": {},
   "source": [
    "#### Spliting the data"
   ]
  },
  {
   "cell_type": "code",
   "execution_count": 30,
   "metadata": {},
   "outputs": [],
   "source": [
    "y = df_train['Y']\n",
    "X = df_train.drop('Y', axis=1)\n",
    "\n",
    "X_train, X_test, Y_train, Y_test = train_test_split(X, y, test_size=0.2, random_state=42)"
   ]
  },
  {
   "cell_type": "markdown",
   "metadata": {},
   "source": [
    "#### Logistic Regression"
   ]
  },
  {
   "cell_type": "code",
   "execution_count": 31,
   "metadata": {},
   "outputs": [],
   "source": [
    "# Scaling the data for Logistic Regression\n",
    "scaler = StandardScaler()\n",
    "X_train_scaled = scaler.fit_transform(X_train)\n",
    "X_test_scaled = scaler.transform(X_test)"
   ]
  },
  {
   "cell_type": "code",
   "execution_count": 32,
   "metadata": {},
   "outputs": [
    {
     "name": "stdout",
     "output_type": "stream",
     "text": [
      "              precision    recall  f1-score   support\n",
      "\n",
      "           0       0.90      0.94      0.92       997\n",
      "           1       0.59      0.44      0.50       189\n",
      "\n",
      "    accuracy                           0.86      1186\n",
      "   macro avg       0.74      0.69      0.71      1186\n",
      "weighted avg       0.85      0.86      0.85      1186\n",
      "\n"
     ]
    }
   ],
   "source": [
    "# Initialize the logistic regression model and train it on the scaled training data\n",
    "LG_clf = LogisticRegression()\n",
    "LG_clf.fit(X_train_scaled, Y_train)\n",
    "\n",
    "# Make predictions on the test data\n",
    "LR_predictions = LG_clf.predict(X_test_scaled)\n",
    "\n",
    "print(classification_report(Y_test, LR_predictions))"
   ]
  },
  {
   "cell_type": "markdown",
   "metadata": {},
   "source": [
    "#### Decision Tree"
   ]
  },
  {
   "cell_type": "code",
   "execution_count": 33,
   "metadata": {},
   "outputs": [
    {
     "name": "stdout",
     "output_type": "stream",
     "text": [
      "              precision    recall  f1-score   support\n",
      "\n",
      "           0       0.92      0.90      0.91       997\n",
      "           1       0.51      0.57      0.54       189\n",
      "\n",
      "    accuracy                           0.85      1186\n",
      "   macro avg       0.72      0.73      0.72      1186\n",
      "weighted avg       0.85      0.85      0.85      1186\n",
      "\n"
     ]
    }
   ],
   "source": [
    "# Initialize the decision tree classifier\n",
    "dt_clf = DecisionTreeClassifier()\n",
    "\n",
    "# Train the classifier on the training data\n",
    "dt_clf.fit(X_train, Y_train)\n",
    "\n",
    "# Make predictions on the test data\n",
    "DT_predictions = dt_clf.predict(X_test)\n",
    "\n",
    "print(classification_report(Y_test, DT_predictions))"
   ]
  },
  {
   "cell_type": "markdown",
   "metadata": {},
   "source": [
    "## 4. Model Improvement"
   ]
  },
  {
   "cell_type": "markdown",
   "metadata": {},
   "source": [
    "### a. Experiment with different machine learning algorithms and techniques to improve model performance.\n",
    "\n"
   ]
  },
  {
   "cell_type": "code",
   "execution_count": 34,
   "metadata": {},
   "outputs": [
    {
     "name": "stdout",
     "output_type": "stream",
     "text": [
      "Logistic Regression Accuracy: 0.866779089376054\n"
     ]
    },
    {
     "name": "stderr",
     "output_type": "stream",
     "text": [
      "C:\\Users\\4bdul\\AppData\\Roaming\\Python\\Python39\\site-packages\\sklearn\\linear_model\\_logistic.py:458: ConvergenceWarning: lbfgs failed to converge (status=1):\n",
      "STOP: TOTAL NO. of ITERATIONS REACHED LIMIT.\n",
      "\n",
      "Increase the number of iterations (max_iter) or scale the data as shown in:\n",
      "    https://scikit-learn.org/stable/modules/preprocessing.html\n",
      "Please also refer to the documentation for alternative solver options:\n",
      "    https://scikit-learn.org/stable/modules/linear_model.html#logistic-regression\n",
      "  n_iter_i = _check_optimize_result(\n"
     ]
    },
    {
     "name": "stdout",
     "output_type": "stream",
     "text": [
      "Support Vector Machine Accuracy: 0.8465430016863407\n",
      "Random Forest Accuracy: 0.8819561551433389\n"
     ]
    }
   ],
   "source": [
    "models = {\n",
    "    'Logistic Regression': LogisticRegression(),\n",
    "    'Support Vector Machine': SVC(),\n",
    "    'Random Forest': RandomForestClassifier()\n",
    "}\n",
    "\n",
    "for model_name, model in models.items():\n",
    "    model.fit(X_train, Y_train)\n",
    "    y_pred = model.predict(X_test)\n",
    "    accuracy = accuracy_score(Y_test, y_pred)\n",
    "    print(f\"{model_name} Accuracy: {accuracy}\")"
   ]
  },
  {
   "cell_type": "markdown",
   "metadata": {},
   "source": [
    "\n",
    "### b. Fine-tune hyperparameters of the selected models to optimize performance.\n"
   ]
  },
  {
   "cell_type": "code",
   "execution_count": 35,
   "metadata": {},
   "outputs": [
    {
     "name": "stderr",
     "output_type": "stream",
     "text": [
      "C:\\Users\\4bdul\\AppData\\Roaming\\Python\\Python39\\site-packages\\sklearn\\ensemble\\_forest.py:424: FutureWarning: `max_features='auto'` has been deprecated in 1.1 and will be removed in 1.3. To keep the past behaviour, explicitly set `max_features='sqrt'` or remove this parameter as it is also the default value for RandomForestClassifiers and ExtraTreesClassifiers.\n",
      "  warn(\n",
      "C:\\Users\\4bdul\\AppData\\Roaming\\Python\\Python39\\site-packages\\sklearn\\ensemble\\_forest.py:424: FutureWarning: `max_features='auto'` has been deprecated in 1.1 and will be removed in 1.3. To keep the past behaviour, explicitly set `max_features='sqrt'` or remove this parameter as it is also the default value for RandomForestClassifiers and ExtraTreesClassifiers.\n",
      "  warn(\n",
      "C:\\Users\\4bdul\\AppData\\Roaming\\Python\\Python39\\site-packages\\sklearn\\ensemble\\_forest.py:424: FutureWarning: `max_features='auto'` has been deprecated in 1.1 and will be removed in 1.3. To keep the past behaviour, explicitly set `max_features='sqrt'` or remove this parameter as it is also the default value for RandomForestClassifiers and ExtraTreesClassifiers.\n",
      "  warn(\n",
      "C:\\Users\\4bdul\\AppData\\Roaming\\Python\\Python39\\site-packages\\sklearn\\ensemble\\_forest.py:424: FutureWarning: `max_features='auto'` has been deprecated in 1.1 and will be removed in 1.3. To keep the past behaviour, explicitly set `max_features='sqrt'` or remove this parameter as it is also the default value for RandomForestClassifiers and ExtraTreesClassifiers.\n",
      "  warn(\n"
     ]
    },
    {
     "name": "stderr",
     "output_type": "stream",
     "text": [
      "C:\\Users\\4bdul\\AppData\\Roaming\\Python\\Python39\\site-packages\\sklearn\\ensemble\\_forest.py:424: FutureWarning: `max_features='auto'` has been deprecated in 1.1 and will be removed in 1.3. To keep the past behaviour, explicitly set `max_features='sqrt'` or remove this parameter as it is also the default value for RandomForestClassifiers and ExtraTreesClassifiers.\n",
      "  warn(\n",
      "C:\\Users\\4bdul\\AppData\\Roaming\\Python\\Python39\\site-packages\\sklearn\\ensemble\\_forest.py:424: FutureWarning: `max_features='auto'` has been deprecated in 1.1 and will be removed in 1.3. To keep the past behaviour, explicitly set `max_features='sqrt'` or remove this parameter as it is also the default value for RandomForestClassifiers and ExtraTreesClassifiers.\n",
      "  warn(\n",
      "C:\\Users\\4bdul\\AppData\\Roaming\\Python\\Python39\\site-packages\\sklearn\\ensemble\\_forest.py:424: FutureWarning: `max_features='auto'` has been deprecated in 1.1 and will be removed in 1.3. To keep the past behaviour, explicitly set `max_features='sqrt'` or remove this parameter as it is also the default value for RandomForestClassifiers and ExtraTreesClassifiers.\n",
      "  warn(\n",
      "C:\\Users\\4bdul\\AppData\\Roaming\\Python\\Python39\\site-packages\\sklearn\\ensemble\\_forest.py:424: FutureWarning: `max_features='auto'` has been deprecated in 1.1 and will be removed in 1.3. To keep the past behaviour, explicitly set `max_features='sqrt'` or remove this parameter as it is also the default value for RandomForestClassifiers and ExtraTreesClassifiers.\n",
      "  warn(\n",
      "C:\\Users\\4bdul\\AppData\\Roaming\\Python\\Python39\\site-packages\\sklearn\\ensemble\\_forest.py:424: FutureWarning: `max_features='auto'` has been deprecated in 1.1 and will be removed in 1.3. To keep the past behaviour, explicitly set `max_features='sqrt'` or remove this parameter as it is also the default value for RandomForestClassifiers and ExtraTreesClassifiers.\n",
      "  warn(\n",
      "C:\\Users\\4bdul\\AppData\\Roaming\\Python\\Python39\\site-packages\\sklearn\\ensemble\\_forest.py:424: FutureWarning: `max_features='auto'` has been deprecated in 1.1 and will be removed in 1.3. To keep the past behaviour, explicitly set `max_features='sqrt'` or remove this parameter as it is also the default value for RandomForestClassifiers and ExtraTreesClassifiers.\n",
      "  warn(\n",
      "C:\\Users\\4bdul\\AppData\\Roaming\\Python\\Python39\\site-packages\\sklearn\\ensemble\\_forest.py:424: FutureWarning: `max_features='auto'` has been deprecated in 1.1 and will be removed in 1.3. To keep the past behaviour, explicitly set `max_features='sqrt'` or remove this parameter as it is also the default value for RandomForestClassifiers and ExtraTreesClassifiers.\n",
      "  warn(\n",
      "C:\\Users\\4bdul\\AppData\\Roaming\\Python\\Python39\\site-packages\\sklearn\\ensemble\\_forest.py:424: FutureWarning: `max_features='auto'` has been deprecated in 1.1 and will be removed in 1.3. To keep the past behaviour, explicitly set `max_features='sqrt'` or remove this parameter as it is also the default value for RandomForestClassifiers and ExtraTreesClassifiers.\n",
      "  warn(\n",
      "C:\\Users\\4bdul\\AppData\\Roaming\\Python\\Python39\\site-packages\\sklearn\\ensemble\\_forest.py:424: FutureWarning: `max_features='auto'` has been deprecated in 1.1 and will be removed in 1.3. To keep the past behaviour, explicitly set `max_features='sqrt'` or remove this parameter as it is also the default value for RandomForestClassifiers and ExtraTreesClassifiers.\n",
      "  warn(\n",
      "C:\\Users\\4bdul\\AppData\\Roaming\\Python\\Python39\\site-packages\\sklearn\\ensemble\\_forest.py:424: FutureWarning: `max_features='auto'` has been deprecated in 1.1 and will be removed in 1.3. To keep the past behaviour, explicitly set `max_features='sqrt'` or remove this parameter as it is also the default value for RandomForestClassifiers and ExtraTreesClassifiers.\n",
      "  warn(\n",
      "C:\\Users\\4bdul\\AppData\\Roaming\\Python\\Python39\\site-packages\\sklearn\\ensemble\\_forest.py:424: FutureWarning: `max_features='auto'` has been deprecated in 1.1 and will be removed in 1.3. To keep the past behaviour, explicitly set `max_features='sqrt'` or remove this parameter as it is also the default value for RandomForestClassifiers and ExtraTreesClassifiers.\n",
      "  warn(\n",
      "C:\\Users\\4bdul\\AppData\\Roaming\\Python\\Python39\\site-packages\\sklearn\\ensemble\\_forest.py:424: FutureWarning: `max_features='auto'` has been deprecated in 1.1 and will be removed in 1.3. To keep the past behaviour, explicitly set `max_features='sqrt'` or remove this parameter as it is also the default value for RandomForestClassifiers and ExtraTreesClassifiers.\n",
      "  warn(\n",
      "C:\\Users\\4bdul\\AppData\\Roaming\\Python\\Python39\\site-packages\\sklearn\\ensemble\\_forest.py:424: FutureWarning: `max_features='auto'` has been deprecated in 1.1 and will be removed in 1.3. To keep the past behaviour, explicitly set `max_features='sqrt'` or remove this parameter as it is also the default value for RandomForestClassifiers and ExtraTreesClassifiers.\n",
      "  warn(\n",
      "C:\\Users\\4bdul\\AppData\\Roaming\\Python\\Python39\\site-packages\\sklearn\\ensemble\\_forest.py:424: FutureWarning: `max_features='auto'` has been deprecated in 1.1 and will be removed in 1.3. To keep the past behaviour, explicitly set `max_features='sqrt'` or remove this parameter as it is also the default value for RandomForestClassifiers and ExtraTreesClassifiers.\n",
      "  warn(\n",
      "C:\\Users\\4bdul\\AppData\\Roaming\\Python\\Python39\\site-packages\\sklearn\\ensemble\\_forest.py:424: FutureWarning: `max_features='auto'` has been deprecated in 1.1 and will be removed in 1.3. To keep the past behaviour, explicitly set `max_features='sqrt'` or remove this parameter as it is also the default value for RandomForestClassifiers and ExtraTreesClassifiers.\n",
      "  warn(\n",
      "C:\\Users\\4bdul\\AppData\\Roaming\\Python\\Python39\\site-packages\\sklearn\\ensemble\\_forest.py:424: FutureWarning: `max_features='auto'` has been deprecated in 1.1 and will be removed in 1.3. To keep the past behaviour, explicitly set `max_features='sqrt'` or remove this parameter as it is also the default value for RandomForestClassifiers and ExtraTreesClassifiers.\n",
      "  warn(\n"
     ]
    },
    {
     "name": "stdout",
     "output_type": "stream",
     "text": [
      "Random Forest Accuracy: 0.893760539629005\n",
      "Best Hyperparameters: {'n_estimators': 200, 'min_samples_split': 5, 'min_samples_leaf': 1, 'max_features': 'sqrt', 'max_depth': 10, 'bootstrap': True}\n"
     ]
    }
   ],
   "source": [
    "from sklearn.model_selection import RandomizedSearchCV\n",
    "# Feature Engineering\n",
    "# Apply feature scaling\n",
    "scaler = StandardScaler()\n",
    "X_train_scaled = scaler.fit_transform(X_train)\n",
    "X_test_scaled = scaler.transform(X_test)\n",
    "\n",
    "# Define the parameter grid for Randomized Search\n",
    "param_grid = {\n",
    "    'n_estimators': [100, 200, 300],\n",
    "    'max_depth': [None, 5, 10],\n",
    "    'min_samples_split': [2, 5, 10],\n",
    "    'min_samples_leaf': [1, 2, 4],\n",
    "    'max_features': ['auto', 'sqrt', 'log2'],\n",
    "    'bootstrap': [True, False]\n",
    "}\n",
    "\n",
    "# Create a Random Forest classifier\n",
    "rf = RandomForestClassifier()\n",
    "\n",
    "# Perform Randomized Search to find the best hyperparameters\n",
    "random_search = RandomizedSearchCV(rf, param_distributions=param_grid, n_iter=10, cv=5, random_state=42)\n",
    "random_search.fit(X_train_scaled, Y_train)\n",
    "\n",
    "# Get the best Random Forest model\n",
    "best_rf = random_search.best_estimator_\n",
    "\n",
    "# Evaluate the best Random Forest model\n",
    "y_pred_rf = best_rf.predict(X_test_scaled)\n",
    "accuracy_rf = accuracy_score(Y_test, y_pred_rf)\n",
    "print(\"Random Forest Accuracy:\", accuracy_rf)\n",
    "\n",
    "# Get the best hyperparameters\n",
    "best_params = random_search.best_params_\n",
    "print(\"Best Hyperparameters:\", best_params)"
   ]
  },
  {
   "cell_type": "markdown",
   "metadata": {},
   "source": [
    "\n",
    "### c. Explore feature engineering techniques to extract more meaningful insights from the\n",
    "data."
   ]
  },
  {
   "cell_type": "code",
   "execution_count": 36,
   "metadata": {},
   "outputs": [],
   "source": [
    "#It is already been created and the column is GPA_presenyage\n",
    "# df['GPA_percentage'] = df['University Degree Score'] / df['University Degree Score System']"
   ]
  },
  {
   "cell_type": "code",
   "execution_count": 37,
   "metadata": {},
   "outputs": [
    {
     "data": {
      "text/plain": [
       "(814, 9)"
      ]
     },
     "execution_count": 37,
     "metadata": {},
     "output_type": "execute_result"
    }
   ],
   "source": [
    "# # Determine age groups\n",
    "# bins = [0, 18, 25, 35, 50, float('inf')]\n",
    "# labels = ['Under 18', '18-25', '26-35', '36-50', 'Above 50']\n",
    "\n",
    "# # Create a new feature that contains the distribution of students based on age groups\n",
    "# df_train[\"Age Group\"] = pd.cut(df_train[\"Age\"], bins=bins, labels=labels)\n",
    "df_test.shape"
   ]
  },
  {
   "cell_type": "markdown",
   "metadata": {},
   "source": [
    "## 5. Submission, Evaluation and Presentation "
   ]
  },
  {
   "cell_type": "markdown",
   "metadata": {},
   "source": [
    "a. Generate predictions for the test dataset using the trained models.\n",
    "\n",
    "b. Submit your predictions to the Kaggle competition page.\n",
    "\n",
    "c. Monitor the leaderboard to see your ranking and evaluate your model's performance\n",
    "relative to other participants.\n",
    "\n",
    "d. Present your solution in a short presentation documenting your approach,\n",
    "methodologies, and findings throughout the competition process.\n",
    "\n",
    "e. Reflect on the challenges faced, lessons learned, and insights gained from\n",
    "participating in the competition in your presentation.\n"
   ]
  },
  {
   "cell_type": "code",
   "execution_count": 41,
   "metadata": {},
   "outputs": [],
   "source": [
    "scaler_test = StandardScaler()\n",
    "X_test_scaled = scaler.fit_transform(df_test)"
   ]
  },
  {
   "cell_type": "code",
   "execution_count": 42,
   "metadata": {},
   "outputs": [
    {
     "data": {
      "text/plain": [
       "(814,)"
      ]
     },
     "execution_count": 42,
     "metadata": {},
     "output_type": "execute_result"
    }
   ],
   "source": [
    "# df_test = df_test.drop(columns='Y')\n",
    "# df_test = df_test.fillna(0)\n",
    "\n",
    "\n",
    "y_pred_sub = best_rf.predict(X_test_scaled)\n",
    "y_pred_sub.shape"
   ]
  },
  {
   "cell_type": "code",
   "execution_count": 43,
   "metadata": {},
   "outputs": [
    {
     "data": {
      "text/html": [
       "<div>\n",
       "<style scoped>\n",
       "    .dataframe tbody tr th:only-of-type {\n",
       "        vertical-align: middle;\n",
       "    }\n",
       "\n",
       "    .dataframe tbody tr th {\n",
       "        vertical-align: top;\n",
       "    }\n",
       "\n",
       "    .dataframe thead th {\n",
       "        text-align: right;\n",
       "    }\n",
       "</style>\n",
       "<table border=\"1\" class=\"dataframe\">\n",
       "  <thead>\n",
       "    <tr style=\"text-align: right;\">\n",
       "      <th></th>\n",
       "      <th>ID</th>\n",
       "      <th>0</th>\n",
       "    </tr>\n",
       "  </thead>\n",
       "  <tbody>\n",
       "    <tr>\n",
       "      <th>0</th>\n",
       "      <td>1</td>\n",
       "      <td>1</td>\n",
       "    </tr>\n",
       "    <tr>\n",
       "      <th>1</th>\n",
       "      <td>2</td>\n",
       "      <td>0</td>\n",
       "    </tr>\n",
       "    <tr>\n",
       "      <th>2</th>\n",
       "      <td>3</td>\n",
       "      <td>0</td>\n",
       "    </tr>\n",
       "    <tr>\n",
       "      <th>3</th>\n",
       "      <td>4</td>\n",
       "      <td>0</td>\n",
       "    </tr>\n",
       "    <tr>\n",
       "      <th>4</th>\n",
       "      <td>5</td>\n",
       "      <td>0</td>\n",
       "    </tr>\n",
       "  </tbody>\n",
       "</table>\n",
       "</div>"
      ],
      "text/plain": [
       "   ID  0\n",
       "0   1  1\n",
       "1   2  0\n",
       "2   3  0\n",
       "3   4  0\n",
       "4   5  0"
      ]
     },
     "execution_count": 43,
     "metadata": {},
     "output_type": "execute_result"
    }
   ],
   "source": [
    "y_pred_sub = pd.DataFrame(y_pred_sub)\n",
    "y_pred_sub.index = np.arange(1, len(y_pred_sub)+1)\n",
    "y_pred_sub = y_pred_sub.reset_index()\n",
    "\n",
    "y_pred_sub = y_pred_sub.rename(columns={'index': 'ID'})\n",
    "\n",
    "y_pred_sub.head()"
   ]
  },
  {
   "cell_type": "code",
   "execution_count": 44,
   "metadata": {},
   "outputs": [],
   "source": [
    "y_pred_sub.to_csv('ML_submission.csv',index=False)"
   ]
  },
  {
   "cell_type": "code",
   "execution_count": 45,
   "metadata": {},
   "outputs": [
    {
     "data": {
      "text/plain": [
       "(814, 2)"
      ]
     },
     "execution_count": 45,
     "metadata": {},
     "output_type": "execute_result"
    }
   ],
   "source": [
    "y_pred_sub.shape"
   ]
  },
  {
   "cell_type": "code",
   "execution_count": 46,
   "metadata": {},
   "outputs": [],
   "source": [
    "extra = {'ID': [815, 816, 817, 818], 0: [0,0,1,1]}\n",
    "extra = pd.DataFrame(extra)    \n",
    "extra = pd.concat([y_pred_sub, extra])\n",
    "extra.to_csv('ML_submission.csv',index=False)\n"
   ]
  },
  {
   "cell_type": "code",
   "execution_count": 47,
   "metadata": {},
   "outputs": [
    {
     "data": {
      "text/html": [
       "<div>\n",
       "<style scoped>\n",
       "    .dataframe tbody tr th:only-of-type {\n",
       "        vertical-align: middle;\n",
       "    }\n",
       "\n",
       "    .dataframe tbody tr th {\n",
       "        vertical-align: top;\n",
       "    }\n",
       "\n",
       "    .dataframe thead th {\n",
       "        text-align: right;\n",
       "    }\n",
       "</style>\n",
       "<table border=\"1\" class=\"dataframe\">\n",
       "  <thead>\n",
       "    <tr style=\"text-align: right;\">\n",
       "      <th></th>\n",
       "      <th>ID</th>\n",
       "      <th>0</th>\n",
       "    </tr>\n",
       "  </thead>\n",
       "  <tbody>\n",
       "    <tr>\n",
       "      <th>0</th>\n",
       "      <td>1</td>\n",
       "      <td>1</td>\n",
       "    </tr>\n",
       "    <tr>\n",
       "      <th>1</th>\n",
       "      <td>2</td>\n",
       "      <td>0</td>\n",
       "    </tr>\n",
       "    <tr>\n",
       "      <th>2</th>\n",
       "      <td>3</td>\n",
       "      <td>0</td>\n",
       "    </tr>\n",
       "    <tr>\n",
       "      <th>3</th>\n",
       "      <td>4</td>\n",
       "      <td>0</td>\n",
       "    </tr>\n",
       "    <tr>\n",
       "      <th>4</th>\n",
       "      <td>5</td>\n",
       "      <td>0</td>\n",
       "    </tr>\n",
       "    <tr>\n",
       "      <th>...</th>\n",
       "      <td>...</td>\n",
       "      <td>...</td>\n",
       "    </tr>\n",
       "    <tr>\n",
       "      <th>813</th>\n",
       "      <td>814</td>\n",
       "      <td>0</td>\n",
       "    </tr>\n",
       "    <tr>\n",
       "      <th>0</th>\n",
       "      <td>815</td>\n",
       "      <td>0</td>\n",
       "    </tr>\n",
       "    <tr>\n",
       "      <th>1</th>\n",
       "      <td>816</td>\n",
       "      <td>0</td>\n",
       "    </tr>\n",
       "    <tr>\n",
       "      <th>2</th>\n",
       "      <td>817</td>\n",
       "      <td>1</td>\n",
       "    </tr>\n",
       "    <tr>\n",
       "      <th>3</th>\n",
       "      <td>818</td>\n",
       "      <td>1</td>\n",
       "    </tr>\n",
       "  </tbody>\n",
       "</table>\n",
       "<p>818 rows × 2 columns</p>\n",
       "</div>"
      ],
      "text/plain": [
       "      ID  0\n",
       "0      1  1\n",
       "1      2  0\n",
       "2      3  0\n",
       "3      4  0\n",
       "4      5  0\n",
       "..   ... ..\n",
       "813  814  0\n",
       "0    815  0\n",
       "1    816  0\n",
       "2    817  1\n",
       "3    818  1\n",
       "\n",
       "[818 rows x 2 columns]"
      ]
     },
     "execution_count": 47,
     "metadata": {},
     "output_type": "execute_result"
    }
   ],
   "source": [
    "extra"
   ]
  }
 ],
 "metadata": {
  "kernelspec": {
   "display_name": "Python 3",
   "language": "python",
   "name": "python3"
  },
  "language_info": {
   "codemirror_mode": {
    "name": "ipython",
    "version": 3
   },
   "file_extension": ".py",
   "mimetype": "text/x-python",
   "name": "python",
   "nbconvert_exporter": "python",
   "pygments_lexer": "ipython3",
   "version": "3.9.18"
  }
 },
 "nbformat": 4,
 "nbformat_minor": 2
}
